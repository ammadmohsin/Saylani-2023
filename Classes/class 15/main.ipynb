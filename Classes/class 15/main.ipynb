{
 "cells": [
  {
   "cell_type": "code",
   "execution_count": 1,
   "metadata": {},
   "outputs": [
    {
     "name": "stdout",
     "output_type": "stream",
     "text": [
      "0 Welcome Ammad\n",
      "1 Welcome mohsin\n",
      "2 Welcome adil\n",
      "3 Welcome khanjee\n",
      "4 Welcome mehnas\n"
     ]
    }
   ],
   "source": [
    "for i in range (5):\n",
    "    user = input (\"Enter your name\")\n",
    "    print (f\"{i} Welcome {user}\")"
   ]
  },
  {
   "cell_type": "code",
   "execution_count": 5,
   "metadata": {},
   "outputs": [
    {
     "name": "stdout",
     "output_type": "stream",
     "text": [
      "Welcome Ammad\n",
      "Welcome MOHsin\n",
      "Welcome jawad\n",
      "Welcome kalama\n",
      "Welcome ajdhlhja\n",
      "Welcome andhjkhajd\n",
      "Welcome adjkahd\n",
      "Welcome ahlhald\n",
      "Welcome dkjahk\n"
     ]
    }
   ],
   "source": [
    "user_input = \"\"\n",
    "while user_input != \"q\" :\n",
    "    user_input = input(\"Enter name\")\n",
    "    if user_input != \"q\" :\n",
    "        print (f\"Welcome {user_input}\")\n",
    "    else :\n",
    "            break"
   ]
  },
  {
   "cell_type": "code",
   "execution_count": 20,
   "metadata": {},
   "outputs": [
    {
     "name": "stdout",
     "output_type": "stream",
     "text": [
      "Its not a clean city\n",
      "Its one of the cleanest cities\n",
      "Its not a clean city\n",
      "Its not a clean city\n",
      "Its not a clean city\n",
      "Its one of the cleanest cities\n",
      "Its not a clean city\n",
      "Its not a clean city\n",
      "Its not a clean city\n",
      "Its not a clean city\n",
      "Its one of the cleanest cities\n"
     ]
    }
   ],
   "source": [
    "Countries = [\"Pakistan\",\n",
    "            \"China\",\n",
    "            \"UAE\",\n",
    "            \"India\",\n",
    "            \"Iran\"]\n",
    "\n",
    "user_input = \"\"\n",
    "while user_input != \"q\" :\n",
    "    user_input = input (\"Enter a city , or q to quit :\")\n",
    "    if user_input != \"q\" :\n",
    "        for clean_city in Countries :\n",
    "            if user_input == clean_city :\n",
    "                print (f\"Its one of the cleanest cities\")\n",
    "                break\n",
    "            else :\n",
    "                if user_input != clean_city:\n",
    "                    break\n",
    "                else :\n",
    "                    print (\"Its not a clean city\")"
   ]
  },
  {
   "cell_type": "code",
   "execution_count": null,
   "metadata": {},
   "outputs": [],
   "source": [
    "Countries = [\"Pakistan\",\n",
    "            \"China\",\n",
    "            \"UAE\",\n",
    "            \"India\",\n",
    "            \"Iran\"]\n",
    "\n",
    "boolean_check = True\n",
    "while boolean_check :\n",
    "    user_input = input (\"Enter a city , or q to quit :\")\n",
    "    if user_input != \"q\" :\n",
    "        for clean_city in Countries :\n",
    "            if user_input == clean_city :\n",
    "                print (f\"Its one of the cleanest cities\")\n",
    "                break\n",
    "    else:\n",
    "        boolean_check = False"
   ]
  },
  {
   "cell_type": "markdown",
   "metadata": {},
   "source": [
    "LIST COMPREHENSION :"
   ]
  },
  {
   "cell_type": "code",
   "execution_count": 11,
   "metadata": {},
   "outputs": [],
   "source": [
    "Countries = [\"Pakistan\",\n",
    "            \"China\",\n",
    "            \"UAE\",\n",
    "            \"India\",\n",
    "            \"Iran\"]\n"
   ]
  },
  {
   "cell_type": "code",
   "execution_count": 15,
   "metadata": {},
   "outputs": [],
   "source": [
    "user_input = input (\"Enter a city :\")\n",
    "\n",
    "for clean_city in Countries :\n",
    "    if user_input == clean_city :\n",
    "        print (f\"Its one of the cleanest cities\")"
   ]
  },
  {
   "cell_type": "code",
   "execution_count": 17,
   "metadata": {},
   "outputs": [
    {
     "name": "stdout",
     "output_type": "stream",
     "text": [
      "['apple', 'banana', 'orange']\n"
     ]
    }
   ],
   "source": [
    "fruits = [\"apple\",\"banana\",\"orange\",\"Kiwi\"]\n",
    "new_list = []\n",
    "\n",
    "for x in fruits :\n",
    "    if \"a\" in x :\n",
    "        new_list.append(x)\n",
    "\n",
    "print (new_list)"
   ]
  },
  {
   "cell_type": "code",
   "execution_count": 18,
   "metadata": {},
   "outputs": [],
   "source": [
    "fruits = [\"apple\",\"banana\",\"orange\"]\n",
    "\n",
    "a_fruits = [ x for x in fruits if 'a' in x]"
   ]
  },
  {
   "cell_type": "code",
   "execution_count": 26,
   "metadata": {},
   "outputs": [
    {
     "name": "stdout",
     "output_type": "stream",
     "text": [
      "[2, 4, 6, 8]\n",
      "[1, 3, 5, 7, 9]\n"
     ]
    }
   ],
   "source": [
    "numbers = [1,2,3,4,5,6,7,8,9]\n",
    "\n",
    "even = [num for num in numbers if num%2 == 0]\n",
    "odd =  [num for num in numbers if num%2 != 0 ]\n",
    "\n",
    "print (even)\n",
    "print (odd)"
   ]
  },
  {
   "cell_type": "markdown",
   "metadata": {},
   "source": [
    "LAMBDA FUNCTION :"
   ]
  },
  {
   "cell_type": "code",
   "execution_count": 33,
   "metadata": {},
   "outputs": [],
   "source": [
    "def cal(num1,num2) :\n",
    "    return num1 + num2"
   ]
  },
  {
   "cell_type": "code",
   "execution_count": 34,
   "metadata": {},
   "outputs": [
    {
     "name": "stdout",
     "output_type": "stream",
     "text": [
      "6\n"
     ]
    }
   ],
   "source": [
    "result = cal(2,4)\n",
    "print (result)"
   ]
  },
  {
   "cell_type": "code",
   "execution_count": 35,
   "metadata": {},
   "outputs": [
    {
     "name": "stdout",
     "output_type": "stream",
     "text": [
      "9\n"
     ]
    }
   ],
   "source": [
    "x = lambda num1 , num2 : num1 + num2 \n",
    "\n",
    "result = x(3,6)\n",
    "print (result)"
   ]
  },
  {
   "cell_type": "code",
   "execution_count": 7,
   "metadata": {},
   "outputs": [
    {
     "name": "stdout",
     "output_type": "stream",
     "text": [
      "2\n",
      "5\n",
      "8\n",
      "11\n",
      "14\n",
      "17\n"
     ]
    }
   ],
   "source": [
    "for i in range (2,20,3) :\n",
    "    print (i)"
   ]
  },
  {
   "cell_type": "code",
   "execution_count": null,
   "metadata": {},
   "outputs": [],
   "source": []
  }
 ],
 "metadata": {
  "kernelspec": {
   "display_name": "base",
   "language": "python",
   "name": "python3"
  },
  "language_info": {
   "codemirror_mode": {
    "name": "ipython",
    "version": 3
   },
   "file_extension": ".py",
   "mimetype": "text/x-python",
   "name": "python",
   "nbconvert_exporter": "python",
   "pygments_lexer": "ipython3",
   "version": "3.11.5"
  }
 },
 "nbformat": 4,
 "nbformat_minor": 2
}
