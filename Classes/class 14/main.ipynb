{
 "cells": [
  {
   "cell_type": "markdown",
   "metadata": {},
   "source": [
    " 1 SIMPLE FUNCTION CREATION :"
   ]
  },
  {
   "cell_type": "code",
   "execution_count": null,
   "metadata": {},
   "outputs": [],
   "source": []
  },
  {
   "cell_type": "markdown",
   "metadata": {},
   "source": [
    "2 FUNCTION CREATION WITH PARAMETERS :"
   ]
  },
  {
   "cell_type": "code",
   "execution_count": 2,
   "metadata": {},
   "outputs": [],
   "source": [
    "def cal_area(length) :\n",
    "    area = length*length\n",
    "    print(f'area of square is {area} sq.km')"
   ]
  },
  {
   "cell_type": "code",
   "execution_count": 3,
   "metadata": {},
   "outputs": [
    {
     "name": "stdout",
     "output_type": "stream",
     "text": [
      "area of square is 16 sq.km\n"
     ]
    }
   ],
   "source": [
    "cal_area(4)"
   ]
  },
  {
   "cell_type": "markdown",
   "metadata": {},
   "source": [
    "3 FUNCTION CREATION WITH ARGUMENTS :"
   ]
  },
  {
   "cell_type": "code",
   "execution_count": 5,
   "metadata": {},
   "outputs": [
    {
     "name": "stdout",
     "output_type": "stream",
     "text": [
      "area of square is 64 sq.km\n"
     ]
    }
   ],
   "source": [
    "l = int(input(\"Enter length :\"))  # l will act as argument for function\n",
    "cal_area(l)"
   ]
  },
  {
   "cell_type": "markdown",
   "metadata": {},
   "source": [
    "4 FUNCTION CREATION WITH ie : DEFAULT PARAMETERS"
   ]
  },
  {
   "cell_type": "code",
   "execution_count": 18,
   "metadata": {},
   "outputs": [],
   "source": [
    "def cal_area(length=3) :\n",
    "    area = length * length\n",
    "    print (f'area of square is {area} sq.km')"
   ]
  },
  {
   "cell_type": "code",
   "execution_count": 19,
   "metadata": {},
   "outputs": [
    {
     "name": "stdout",
     "output_type": "stream",
     "text": [
      "area of square is 64 sq.km\n"
     ]
    }
   ],
   "source": [
    "cal_area(8)"
   ]
  },
  {
   "cell_type": "markdown",
   "metadata": {},
   "source": [
    "5 FUNCTION CREATION WITH MORE THAN ONE ARGUMENTS :"
   ]
  },
  {
   "cell_type": "code",
   "execution_count": 32,
   "metadata": {},
   "outputs": [],
   "source": [
    "def cal_area(length, breadth, height = 3):\n",
    "    area_square = length * length\n",
    "    volume = length * breadth * height\n",
    "    print (f'area of square is {area_square} sq.km')\n",
    "    print (f'volume of square is {volume} sq.km')"
   ]
  },
  {
   "cell_type": "code",
   "execution_count": 33,
   "metadata": {},
   "outputs": [
    {
     "name": "stdout",
     "output_type": "stream",
     "text": [
      "area of square is 4 sq.km\n",
      "volume of square is 24 sq.km\n"
     ]
    }
   ],
   "source": [
    "cal_area(2,4)\n"
   ]
  },
  {
   "cell_type": "markdown",
   "metadata": {},
   "source": []
  },
  {
   "cell_type": "code",
   "execution_count": 45,
   "metadata": {},
   "outputs": [],
   "source": [
    "def cal_area(length,breadth,height=4):\n",
    "    area_square = length * length\n",
    "    volume = length * breadth * height\n",
    "    print (f'area of square is {area_square} sq.km')\n",
    "    print (f'volume of square is {volume} sq.km')"
   ]
  },
  {
   "cell_type": "code",
   "execution_count": 47,
   "metadata": {},
   "outputs": [
    {
     "name": "stdout",
     "output_type": "stream",
     "text": [
      "area of square is 49 sq.km\n",
      "volume of square is 252 sq.km\n"
     ]
    }
   ],
   "source": [
    "l = int(input(\"Enter length :\"))\n",
    "b = int(input(\"Enter breadth :\"))\n",
    "h = int(input(\"Enter height :\"))\n",
    "\n",
    "cal_area(b,h,l)  # ERROR & WRONG VALUES."
   ]
  },
  {
   "cell_type": "code",
   "execution_count": 50,
   "metadata": {},
   "outputs": [
    {
     "name": "stdout",
     "output_type": "stream",
     "text": [
      "length = 5\n",
      "breadth = 9\n",
      "height = 3\n",
      "area of square is 25 sq.km\n",
      "volume of square is 135 sq.km\n"
     ]
    }
   ],
   "source": [
    "l = int(input(\"Enter length :\"))\n",
    "b = int(input(\"Enter breadth :\"))\n",
    "h = int(input(\"Enter height :\"))\n",
    "\n",
    "print(f'length = {l}')\n",
    "print(f'breadth = {b}')\n",
    "print(f'height = {h}')\n",
    "\n",
    "cal_area(breadth=b , height=h , length=l) "
   ]
  },
  {
   "cell_type": "code",
   "execution_count": null,
   "metadata": {},
   "outputs": [],
   "source": [
    "# AREA :\n",
    "length = int(input(\"enter length\"))\n",
    "area = length * length\n",
    "\n",
    "# VOLUME :\n",
    "breadth = int(input(\"enter breadth\"))\n",
    "height = int(input(\"enter height\"))\n",
    "volume = length * breadth * height\n",
    "\n",
    "#CIRCUMFERENCE :\n",
    "pi = 22/7\n",
    "radius = int(input(\"Enter radius\"))\n",
    "circumference = pi * radius^2"
   ]
  },
  {
   "cell_type": "code",
   "execution_count": null,
   "metadata": {},
   "outputs": [],
   "source": [
    "# main.py\n",
    "\n",
    "area()\n",
    "vol()\n",
    "circumference()"
   ]
  },
  {
   "cell_type": "raw",
   "metadata": {},
   "source": [
    "TASK : \n",
    "    1 - create a function without parameter that provide full name\n",
    "    2 - introduce parameters in that function\n",
    "    3 - set \"middle name \" of a person as a default parameter\n",
    "    4 - introduce the return keyword in the function definition\n",
    "    5 - validate the concept of provisional parameters"
   ]
  },
  {
   "cell_type": "code",
   "execution_count": 56,
   "metadata": {},
   "outputs": [],
   "source": [
    "def calculation(num1,num2):\n",
    "\n",
    "    def add(num1,num2):\n",
    "        return num1+num2\n",
    "\n",
    "    def sub(num1,num2):\n",
    "        return num1-num2\n",
    "\n",
    "    print (add(num1,num2))\n",
    "    print (sub(num1,num2))"
   ]
  },
  {
   "cell_type": "code",
   "execution_count": 57,
   "metadata": {},
   "outputs": [
    {
     "name": "stdout",
     "output_type": "stream",
     "text": [
      "7\n",
      "3\n"
     ]
    }
   ],
   "source": [
    "calculation(5,2)"
   ]
  },
  {
   "cell_type": "markdown",
   "metadata": {},
   "source": [
    "WORKING WITH FLEXIBLE NUMBER OF ARGUMENTS USING *"
   ]
  },
  {
   "cell_type": "code",
   "execution_count": 60,
   "metadata": {},
   "outputs": [],
   "source": [
    "def add(num1 , num2 , *nums) :\n",
    "    print (num1)\n",
    "    print (num2)\n",
    "    print (nums)\n",
    "\n",
    "    added = num1 + num2\n",
    "\n",
    "    for i in nums :\n",
    "        added += i\n",
    "\n",
    "    print (added)"
   ]
  },
  {
   "cell_type": "code",
   "execution_count": 61,
   "metadata": {},
   "outputs": [
    {
     "name": "stdout",
     "output_type": "stream",
     "text": [
      "2\n",
      "3\n",
      "(4, 5, 6, 7, 8)\n",
      "35\n"
     ]
    }
   ],
   "source": [
    "add(2,3,4,5,6,7,8)"
   ]
  },
  {
   "cell_type": "markdown",
   "metadata": {},
   "source": [
    "WORKING WITH FLEXIBLE NUMBER OF ARGUMENTS USING **"
   ]
  },
  {
   "cell_type": "code",
   "execution_count": 73,
   "metadata": {},
   "outputs": [],
   "source": [
    "def add(num1 , num2 , **nums) :\n",
    "    print (num1)\n",
    "    print (num2)\n",
    "    print (nums)\n",
    "\n",
    "    added = num1 + num2\n",
    "\n",
    "    for key , value in nums.items() :\n",
    "        added += value\n",
    "\n",
    "    print (added)\n"
   ]
  },
  {
   "cell_type": "code",
   "execution_count": 74,
   "metadata": {},
   "outputs": [
    {
     "name": "stdout",
     "output_type": "stream",
     "text": [
      "2\n",
      "4\n",
      "{'num3': 5, 'num4': 6}\n",
      "17\n"
     ]
    }
   ],
   "source": [
    "add (2,4, num3 = 5 , num4 = 6)"
   ]
  },
  {
   "cell_type": "code",
   "execution_count": null,
   "metadata": {},
   "outputs": [],
   "source": []
  }
 ],
 "metadata": {
  "kernelspec": {
   "display_name": "base",
   "language": "python",
   "name": "python3"
  },
  "language_info": {
   "codemirror_mode": {
    "name": "ipython",
    "version": 3
   },
   "file_extension": ".py",
   "mimetype": "text/x-python",
   "name": "python",
   "nbconvert_exporter": "python",
   "pygments_lexer": "ipython3",
   "version": "3.11.5"
  }
 },
 "nbformat": 4,
 "nbformat_minor": 2
}
