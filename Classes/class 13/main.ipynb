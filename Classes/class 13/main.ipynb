{
 "cells": [
  {
   "cell_type": "code",
   "execution_count": 1,
   "metadata": {},
   "outputs": [],
   "source": [
    " customers = [\n",
    " \n",
    " {\"customer id\": 0,\n",
    " \"first name\":\"John\",\n",
    " \"last name\": \"Ogden\",\n",
    " \"address\": \"301 Arbor Rd.\",},\n",
    "\n",
    " {\"customer id\": 1,\n",
    " \"first name\":\"Ann\",\n",
    " \"last name\": \"Sattermyer\",\n",
    " \"address\": \"PO Box 1145\",},\n",
    "\n",
    " {\"customer id\": 2,\n",
    " \"first name\":\"Jill\",\n",
    " \"last name\": \"Somers\",\n",
    " \"address\": \"3 Main St.\",},\n",
    " \n",
    " ]"
   ]
  },
  {
   "cell_type": "code",
   "execution_count": 5,
   "metadata": {},
   "outputs": [],
   "source": [
    "dic_of_dic = {\n",
    "    'customer 1' : {\"customer id\": 0,\n",
    "                    \"first name\":\"John\",\n",
    "                    \"last name\": \"Ogden\",\n",
    "                    \"address\": \"301 Arbor Rd.\",},\n",
    "    'customer 2' : {\"customer id\": 1,\n",
    "                    \"first name\":\"Ann\",\n",
    "                    \"last name\": \"Sattermyer\",\n",
    "                    \"address\": \"PO Box 1145\",},\n",
    "    'customer 3' : {\"customer id\": 2,\n",
    "                    \"first name\":\"Jill\",\n",
    "                    \"last name\": \"Somers\",\n",
    "                    \"address\": \"3 Main St.\",}\n",
    "    \n",
    "}"
   ]
  },
  {
   "cell_type": "code",
   "execution_count": 6,
   "metadata": {},
   "outputs": [
    {
     "data": {
      "text/plain": [
       "{'customer 1': {'customer id': 0,\n",
       "  'first name': 'John',\n",
       "  'last name': 'Ogden',\n",
       "  'address': '301 Arbor Rd.'},\n",
       " 'customer 2': {'customer id': 1,\n",
       "  'first name': 'Ann',\n",
       "  'last name': 'Sattermyer',\n",
       "  'address': 'PO Box 1145'},\n",
       " 'customer 3': {'customer id': 2,\n",
       "  'first name': 'Jill',\n",
       "  'last name': 'Somers',\n",
       "  'address': '3 Main St.'}}"
      ]
     },
     "execution_count": 6,
     "metadata": {},
     "output_type": "execute_result"
    }
   ],
   "source": [
    "dic_of_dic"
   ]
  },
  {
   "cell_type": "code",
   "execution_count": 10,
   "metadata": {},
   "outputs": [
    {
     "data": {
      "text/plain": [
       "{'customer id': 0,\n",
       " 'first name': 'John',\n",
       " 'last name': 'Ogden',\n",
       " 'address': '301 Arbor Rd.'}"
      ]
     },
     "execution_count": 10,
     "metadata": {},
     "output_type": "execute_result"
    }
   ],
   "source": [
    "dic_of_dic[\"customer 1\"]"
   ]
  },
  {
   "cell_type": "code",
   "execution_count": 12,
   "metadata": {},
   "outputs": [
    {
     "data": {
      "text/plain": [
       "'301 Arbor Rd.'"
      ]
     },
     "execution_count": 12,
     "metadata": {},
     "output_type": "execute_result"
    }
   ],
   "source": [
    "dic_of_dic[\"customer 1\"]['address']"
   ]
  },
  {
   "cell_type": "code",
   "execution_count": 25,
   "metadata": {},
   "outputs": [
    {
     "name": "stdout",
     "output_type": "stream",
     "text": [
      "0\n",
      "John\n",
      "Ogden\n",
      "301 Arbor Rd.\n"
     ]
    }
   ],
   "source": [
    "for value in dic_of_dic[\"customer 1\"].keys() :\n",
    "    print (dic_of_dic[\"customer 1\"][value])"
   ]
  },
  {
   "cell_type": "markdown",
   "metadata": {},
   "source": [
    "FUNCTIONS :"
   ]
  },
  {
   "cell_type": "code",
   "execution_count": 26,
   "metadata": {},
   "outputs": [],
   "source": [
    "bio = int(input(\"Enter marks bio : \"))\n",
    "chem = int(input(\"Enter marks chem : \"))\n",
    "eng = int(input(\"Enter marks eng : \"))\n",
    "phy = int(input(\"Enter marks phy : \"))\n",
    "\n",
    "total_marks = 400\n",
    "obtain_marks = bio+chem+eng+phy\n",
    "percentage = (obtain_marks*100)/total_marks"
   ]
  },
  {
   "cell_type": "raw",
   "metadata": {},
   "source": [
    "\n",
    "def <function_name>(<parameters>) :\n",
    "    <function_body>"
   ]
  },
  {
   "cell_type": "code",
   "execution_count": 30,
   "metadata": {},
   "outputs": [],
   "source": [
    "def calculate_percentage(bio,chem,eng,phy) :\n",
    "    total_marks = 400\n",
    "    obtain_marks = bio+chem+eng+phy\n",
    "    percentage = (obtain_marks*100)/total_marks\n",
    "    print(percentage)"
   ]
  },
  {
   "cell_type": "code",
   "execution_count": 32,
   "metadata": {},
   "outputs": [
    {
     "name": "stdout",
     "output_type": "stream",
     "text": [
      "81.25\n"
     ]
    }
   ],
   "source": [
    "calculate_percentage(90,85,70,80)"
   ]
  },
  {
   "cell_type": "code",
   "execution_count": 38,
   "metadata": {},
   "outputs": [
    {
     "name": "stdout",
     "output_type": "stream",
     "text": [
      "89.5\n"
     ]
    }
   ],
   "source": [
    "bio = int(input(\"Enter marks bio : \"))\n",
    "chem = int(input(\"Enter marks chem : \"))\n",
    "eng = int(input(\"Enter marks eng : \"))\n",
    "phy = int(input(\"Enter marks phy : \"))\n",
    "\n",
    "calculate_percentage(bio,chem,eng,phy)"
   ]
  },
  {
   "cell_type": "code",
   "execution_count": 50,
   "metadata": {},
   "outputs": [],
   "source": [
    "# AREA OF SQUARE :\n",
    "def area():\n",
    "    len_square = int(input(\"Please enter the length of the square : \"))\n",
    "    area = len_square*len_square\n",
    "    print(f'area of square is {area}')"
   ]
  },
  {
   "cell_type": "code",
   "execution_count": 52,
   "metadata": {},
   "outputs": [
    {
     "name": "stdout",
     "output_type": "stream",
     "text": [
      "area of square is 16\n"
     ]
    }
   ],
   "source": [
    "area()"
   ]
  },
  {
   "cell_type": "code",
   "execution_count": 55,
   "metadata": {},
   "outputs": [],
   "source": [
    "def volume():\n",
    "    len_square = int(input(\"Please enter the length of the square : \"))\n",
    "    volume = len_square*len_square*len_square\n",
    "    print(f'volume of a cube is {volume}')"
   ]
  },
  {
   "cell_type": "code",
   "execution_count": 57,
   "metadata": {},
   "outputs": [
    {
     "name": "stdout",
     "output_type": "stream",
     "text": [
      "volume of square is 8\n"
     ]
    }
   ],
   "source": [
    "volume()"
   ]
  },
  {
   "cell_type": "code",
   "execution_count": 69,
   "metadata": {},
   "outputs": [],
   "source": [
    "def complete_name(first_name,last_name,middle_name = \"\") :\n",
    "    print (f'{first_name} {middle_name} {last_name}')"
   ]
  },
  {
   "cell_type": "code",
   "execution_count": 70,
   "metadata": {},
   "outputs": [
    {
     "name": "stdout",
     "output_type": "stream",
     "text": [
      "mehmood  hassan\n"
     ]
    }
   ],
   "source": [
    "complete_name(\"mehmood\",\"hassan\")"
   ]
  },
  {
   "cell_type": "code",
   "execution_count": 71,
   "metadata": {},
   "outputs": [
    {
     "name": "stdout",
     "output_type": "stream",
     "text": [
      "mehmood ul hassan\n"
     ]
    }
   ],
   "source": [
    "complete_name(\"mehmood\",\"hassan\",\"ul\")"
   ]
  },
  {
   "cell_type": "code",
   "execution_count": 81,
   "metadata": {},
   "outputs": [
    {
     "name": "stdout",
     "output_type": "stream",
     "text": [
      "ammad mohsin bin\n"
     ]
    }
   ],
   "source": [
    "first_name = input(\"Please enter your first name :\")\n",
    "middle_name = input(\"Please enter your middle name :\")\n",
    "last_name = input(\"Please enter your last name :\")\n"
   ]
  }
 ],
 "metadata": {
  "kernelspec": {
   "display_name": "base",
   "language": "python",
   "name": "python3"
  },
  "language_info": {
   "codemirror_mode": {
    "name": "ipython",
    "version": 3
   },
   "file_extension": ".py",
   "mimetype": "text/x-python",
   "name": "python",
   "nbconvert_exporter": "python",
   "pygments_lexer": "ipython3",
   "version": "3.11.5"
  }
 },
 "nbformat": 4,
 "nbformat_minor": 2
}
