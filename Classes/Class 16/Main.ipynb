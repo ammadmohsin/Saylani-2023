{
 "cells": [
  {
   "cell_type": "code",
   "execution_count": null,
   "metadata": {},
   "outputs": [],
   "source": [
    "class Car:\n",
    "    def __init__(self, make, model, year,):\n",
    "        self.make = make\n",
    "        self.model = model\n",
    "        self.year = year\n",
    "        self.odometer_reading = 0\n"
   ]
  },
  {
   "cell_type": "markdown",
   "metadata": {},
   "source": [
    "FILE HANDLING :\n"
   ]
  },
  {
   "cell_type": "code",
   "execution_count": 5,
   "metadata": {},
   "outputs": [],
   "source": [
    "with open (\"file_handling.txt\",\"w\") as file :\n",
    "    file.write (\"Hello, We are learning File Handling\")"
   ]
  },
  {
   "cell_type": "code",
   "execution_count": 6,
   "metadata": {},
   "outputs": [],
   "source": [
    "with open (\"data/file_handling.txt\",\"w\") as file :\n",
    "    file.write (\"Hello, We are learning File Handling\")\n",
    "\n",
    "    # / in all OS\n",
    "    # \\ in Window\n",
    "    # ./\n",
    "    # r"
   ]
  },
  {
   "cell_type": "code",
   "execution_count": 7,
   "metadata": {},
   "outputs": [],
   "source": [
    "with open (\"file_handling.txt\",\"a\") as file :\n",
    "    file.write (\"\\nFile Handling with append Mode\")"
   ]
  },
  {
   "cell_type": "code",
   "execution_count": 29,
   "metadata": {},
   "outputs": [
    {
     "name": "stdout",
     "output_type": "stream",
     "text": [
      "Should write\n"
     ]
    }
   ],
   "source": [
    "with open (\"file_handling.txt\",\"r\") as file :\n",
    "    file_content = file.read()\n",
    "    print(file_content)"
   ]
  },
  {
   "cell_type": "code",
   "execution_count": 30,
   "metadata": {},
   "outputs": [],
   "source": [
    "file = open ('file_handling.txt' , 'w')"
   ]
  },
  {
   "cell_type": "code",
   "execution_count": 31,
   "metadata": {},
   "outputs": [],
   "source": [
    "file.write('Should write')\n",
    "file.close()"
   ]
  },
  {
   "cell_type": "code",
   "execution_count": 33,
   "metadata": {},
   "outputs": [],
   "source": [
    "greetings = \"Welcome to saylani class\"\n",
    "with open ('file_greetings,txt','w') as file :\n",
    "    file.write(greetings)"
   ]
  },
  {
   "cell_type": "code",
   "execution_count": null,
   "metadata": {},
   "outputs": [],
   "source": [
    "with open ('read_write.txt','r+') as file :\n",
    "    file.write(\"Reading and writing\")\n",
    "\n",
    "    # Wont work because for r+ file already has to exist"
   ]
  },
  {
   "cell_type": "code",
   "execution_count": 47,
   "metadata": {},
   "outputs": [],
   "source": [
    "with open ('read_write.txt','r+') as file :\n",
    "    file.write(\"Reading and writing\")"
   ]
  },
  {
   "cell_type": "code",
   "execution_count": 48,
   "metadata": {},
   "outputs": [
    {
     "name": "stdout",
     "output_type": "stream",
     "text": [
      "Reading and writing\n"
     ]
    }
   ],
   "source": [
    "\n",
    "with open ('read_write.txt','r+') as file :\n",
    "    file_content = file.read()\n",
    "    print (file_content)"
   ]
  },
  {
   "cell_type": "code",
   "execution_count": null,
   "metadata": {},
   "outputs": [],
   "source": []
  },
  {
   "cell_type": "markdown",
   "metadata": {},
   "source": [
    "1 MODULE :"
   ]
  },
  {
   "cell_type": "code",
   "execution_count": 1,
   "metadata": {},
   "outputs": [],
   "source": [
    "import calculations"
   ]
  },
  {
   "cell_type": "code",
   "execution_count": 2,
   "metadata": {},
   "outputs": [
    {
     "data": {
      "text/plain": [
       "4.0"
      ]
     },
     "execution_count": 2,
     "metadata": {},
     "output_type": "execute_result"
    }
   ],
   "source": [
    "calculations.sqrt(16)"
   ]
  },
  {
   "cell_type": "code",
   "execution_count": 3,
   "metadata": {},
   "outputs": [
    {
     "data": {
      "text/plain": [
       "11"
      ]
     },
     "execution_count": 3,
     "metadata": {},
     "output_type": "execute_result"
    }
   ],
   "source": [
    "calculations.add(6,5)"
   ]
  },
  {
   "cell_type": "code",
   "execution_count": 4,
   "metadata": {},
   "outputs": [
    {
     "data": {
      "text/plain": [
       "4"
      ]
     },
     "execution_count": 4,
     "metadata": {},
     "output_type": "execute_result"
    }
   ],
   "source": [
    "calculations.sub(8,4)"
   ]
  },
  {
   "cell_type": "code",
   "execution_count": null,
   "metadata": {},
   "outputs": [],
   "source": []
  },
  {
   "cell_type": "markdown",
   "metadata": {},
   "source": [
    "CSV FILE :"
   ]
  },
  {
   "cell_type": "code",
   "execution_count": 7,
   "metadata": {},
   "outputs": [],
   "source": [
    "import csv\n"
   ]
  },
  {
   "cell_type": "code",
   "execution_count": 18,
   "metadata": {},
   "outputs": [],
   "source": [
    "with open(\"data.csv\", \"w\", newline= \"\") as file :\n",
    "    csv_write = csv.writer (file, delimiter=',')\n",
    "    \n",
    "    csv_write.writerow([\"Year\",\"Event\",\"Winner\"])    # <- HEADER\n",
    "    csv_write.writerow([\"1995\",\"Best-Kept Lawn\",\"None\"])    # <- data/record\n",
    "    csv_write.writerow([\"1999\",\"Gobstones\",\"Welch National\"])   # <- data/record"
   ]
  },
  {
   "cell_type": "code",
   "execution_count": 19,
   "metadata": {},
   "outputs": [],
   "source": [
    "with open(\"data.csv\", \"a\" , newline= \"\") as file :\n",
    "    csv_write = csv.writer (file, delimiter=',')\n",
    "    \n",
    "    csv_write.writerow([\"2001\",\"karachi eat\",\"Hulk\"])    # <- data/record\n",
    "    csv_write.writerow([\"1989\",\"Merchant Lawn\",\"NOny\"])    # <- data/record\n",
    "    csv_write.writerow([\"1890\",\"Pearlstones\",\"Ransome\"])   # <- data/record"
   ]
  },
  {
   "cell_type": "code",
   "execution_count": 20,
   "metadata": {},
   "outputs": [
    {
     "name": "stdout",
     "output_type": "stream",
     "text": [
      "['Year', 'Event', 'Winner']\n",
      "['1995', 'Best-Kept Lawn', 'None']\n",
      "['1999', 'Gobstones', 'Welch National']\n",
      "['2001', 'karachi eat', 'Hulk']\n",
      "['1989', 'Merchant Lawn', 'NOny']\n",
      "['1890', 'Pearlstones', 'Ransome']\n"
     ]
    }
   ],
   "source": [
    "with open (\"data.csv\", 'r',) as file :\n",
    "    csv_read = csv.reader(file, delimiter=\",\")\n",
    "    for record in list(csv_read) :\n",
    "        print (record)\n"
   ]
  },
  {
   "cell_type": "markdown",
   "metadata": {},
   "source": [
    "TASK :\n",
    "    \n",
    "    1- create a CSV file with delimeter \"|\"\n",
    "    2- add 2 records in file using write mode \n",
    "    3- add 3 record in file using append mode\n",
    "    4- read the content from the file\n",
    "    5- Perform operations like Slicing, Indexing on it."
   ]
  },
  {
   "cell_type": "code",
   "execution_count": 32,
   "metadata": {},
   "outputs": [],
   "source": [
    "with open(\"Task.csv\", \"w\", newline= \"\") as file :\n",
    "    csv_write = csv.writer (file, delimiter='|')\n",
    "    \n",
    "    csv_write.writerow([\"Name\",\"Class\",\"Subject\"])\n",
    "    csv_write.writerow([\"Ammad\",\"Python\",\"AWS\"])\n",
    "    csv_write.writerow([\"Qasim\",\"Java\",\"Azure\"])\n",
    "    "
   ]
  },
  {
   "cell_type": "code",
   "execution_count": 33,
   "metadata": {},
   "outputs": [],
   "source": [
    "with open(\"Task.csv\", \"a\", newline= \"\") as file :\n",
    "    csv_write = csv.writer (file, delimiter='|')\n",
    "    \n",
    "    csv_write.writerow([\"Mehmood\",\"C++\",\"Cloud\"])\n",
    "    csv_write.writerow([\"Adil\",\"C#\",\"Pandas\"])\n",
    "    csv_write.writerow([\"Rehan\",\"Typescript\",\"Azure\"])"
   ]
  },
  {
   "cell_type": "code",
   "execution_count": 35,
   "metadata": {},
   "outputs": [
    {
     "name": "stdout",
     "output_type": "stream",
     "text": [
      "[['Name', 'Class', 'Subject'], ['Ammad', 'Python', 'AWS'], ['Qasim', 'Java', 'Azure'], ['Mehmood', 'C++', 'Cloud'], ['Adil', 'C#', 'Pandas'], ['Rehan', 'Typescript', 'Azure']]\n"
     ]
    }
   ],
   "source": [
    "with open(\"Task.csv\", \"r\",) as file :\n",
    "    csv_write = csv.reader (file, delimiter='|')\n",
    "    \n",
    "    list_Task = list(csv_write)\n",
    "    print(list_Task)\n",
    "\n",
    "    for record in list(csv_write) :\n",
    "        print (record)"
   ]
  },
  {
   "cell_type": "code",
   "execution_count": null,
   "metadata": {},
   "outputs": [],
   "source": []
  }
 ],
 "metadata": {
  "kernelspec": {
   "display_name": "Python 3",
   "language": "python",
   "name": "python3"
  },
  "language_info": {
   "codemirror_mode": {
    "name": "ipython",
    "version": 3
   },
   "file_extension": ".py",
   "mimetype": "text/x-python",
   "name": "python",
   "nbconvert_exporter": "python",
   "pygments_lexer": "ipython3",
   "version": "3.11.5"
  }
 },
 "nbformat": 4,
 "nbformat_minor": 2
}
