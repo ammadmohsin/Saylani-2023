{
 "cells": [
  {
   "cell_type": "code",
   "execution_count": 2,
   "metadata": {},
   "outputs": [],
   "source": [
    "chutti = False"
   ]
  },
  {
   "cell_type": "markdown",
   "metadata": {},
   "source": [
    "if <Condition> :\n",
    "        <body start>\n",
    "what will \n",
    "        <body end>        "
   ]
  },
  {
   "cell_type": "code",
   "execution_count": 4,
   "metadata": {},
   "outputs": [
    {
     "name": "stdout",
     "output_type": "stream",
     "text": [
      "Happy new year - Today is off\n",
      "Out of body print\n"
     ]
    }
   ],
   "source": [
    "if chutti :\n",
    "    print (\"Happy new year - Today is off\")\n",
    "\n",
    "print (\"Out of body print\")"
   ]
  },
  {
   "cell_type": "code",
   "execution_count": 5,
   "metadata": {},
   "outputs": [
    {
     "name": "stdout",
     "output_type": "stream",
     "text": [
      "Happy new year - Today is off\n",
      "Out of body print\n"
     ]
    }
   ],
   "source": [
    "if chutti :\n",
    "    print (\"Happy new year - Today is off\")\n",
    "\n",
    "print (\"Out of body print\")"
   ]
  },
  {
   "cell_type": "code",
   "execution_count": 12,
   "metadata": {},
   "outputs": [],
   "source": [
    "chutti = True"
   ]
  },
  {
   "cell_type": "code",
   "execution_count": 13,
   "metadata": {},
   "outputs": [
    {
     "name": "stdout",
     "output_type": "stream",
     "text": [
      "Today is off\n"
     ]
    }
   ],
   "source": [
    "if chutti:\n",
    "    print (\"Today is off\")\n",
    "else:\n",
    "    print (\"Out of body print\")\n"
   ]
  },
  {
   "cell_type": "code",
   "execution_count": 18,
   "metadata": {},
   "outputs": [],
   "source": [
    "Bulb = True"
   ]
  },
  {
   "cell_type": "code",
   "execution_count": 19,
   "metadata": {},
   "outputs": [
    {
     "name": "stdout",
     "output_type": "stream",
     "text": [
      "Bulb is on\n"
     ]
    }
   ],
   "source": [
    "if Bulb:\n",
    "    print(\"Bulb is on\")\n",
    "else:\n",
    "    print(\"Turn off the bulb\")    "
   ]
  },
  {
   "cell_type": "code",
   "execution_count": 22,
   "metadata": {},
   "outputs": [],
   "source": [
    "num = 2"
   ]
  },
  {
   "cell_type": "code",
   "execution_count": 26,
   "metadata": {},
   "outputs": [
    {
     "name": "stdout",
     "output_type": "stream",
     "text": [
      "number is odd\n"
     ]
    }
   ],
   "source": [
    "if num/2 == 0 :\n",
    "    print (\"number is even\")\n",
    "else:\n",
    "    print ('number is odd')"
   ]
  },
  {
   "cell_type": "code",
   "execution_count": 27,
   "metadata": {},
   "outputs": [],
   "source": [
    "country = \"Turkey\""
   ]
  },
  {
   "cell_type": "code",
   "execution_count": 28,
   "metadata": {},
   "outputs": [
    {
     "name": "stdout",
     "output_type": "stream",
     "text": [
      "Mehmood is Happy\n"
     ]
    }
   ],
   "source": [
    "if country != \"Pakistan\":\n",
    "    print (\"Mehmood is Happy\")\n",
    "else:\n",
    "    print (\"Mehmood is sad\")"
   ]
  },
  {
   "cell_type": "code",
   "execution_count": 29,
   "metadata": {},
   "outputs": [],
   "source": [
    "country = \"Pakistan\""
   ]
  },
  {
   "cell_type": "code",
   "execution_count": 30,
   "metadata": {},
   "outputs": [
    {
     "name": "stdout",
     "output_type": "stream",
     "text": [
      "Mehmood is sad\n"
     ]
    }
   ],
   "source": [
    "if country != \"Pakistan\":\n",
    "    print (\"Mehmood is Happy\")\n",
    "else:\n",
    "    print (\"Mehmood is sad\")"
   ]
  },
  {
   "cell_type": "code",
   "execution_count": 31,
   "metadata": {},
   "outputs": [],
   "source": [
    "country = \"Pakistan\"\n",
    "height = 5"
   ]
  },
  {
   "cell_type": "code",
   "execution_count": 32,
   "metadata": {},
   "outputs": [
    {
     "name": "stdout",
     "output_type": "stream",
     "text": [
      "Mehmood is Happy\n",
      "its fine for mehmood\n"
     ]
    }
   ],
   "source": [
    "if country == \"Pakistan\":\n",
    "    print (\"Mehmood is Happy\")\n",
    "    if height <5 :\n",
    "        print (\"Mehmood is not happy\")\n",
    "    else:\n",
    "        print (\"its fine for mehmood\")\n",
    "else:\n",
    "    print (\"Mehmood is sad\")"
   ]
  },
  {
   "cell_type": "code",
   "execution_count": 33,
   "metadata": {},
   "outputs": [],
   "source": [
    "country = \"Pakistan\"\n",
    "height = 5"
   ]
  },
  {
   "cell_type": "code",
   "execution_count": null,
   "metadata": {},
   "outputs": [],
   "source": [
    "country = input (\"Enter country of girl:\")\n",
    "height = int(input (\"Enter height of the girl:\"))\n",
    "\n",
    "if country == \"Pakistan\":\n",
    "    print (\"Mehmood is Happy for country\")\n",
    "    if height <5 :\n",
    "        print (\"Mehmood is not happy for height\")\n",
    "    else:\n",
    "        print (\"its fine for mehmood (height matches)\")\n",
    "else:\n",
    "    print (\"Mehmood is sad\")"
   ]
  }
 ],
 "metadata": {
  "kernelspec": {
   "display_name": "base",
   "language": "python",
   "name": "python3"
  },
  "language_info": {
   "codemirror_mode": {
    "name": "ipython",
    "version": 3
   },
   "file_extension": ".py",
   "mimetype": "text/x-python",
   "name": "python",
   "nbconvert_exporter": "python",
   "pygments_lexer": "ipython3",
   "version": "3.11.5"
  }
 },
 "nbformat": 4,
 "nbformat_minor": 2
}
