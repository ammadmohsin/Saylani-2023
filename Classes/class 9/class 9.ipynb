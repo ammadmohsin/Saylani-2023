{
 "cells": [
  {
   "cell_type": "code",
   "execution_count": 1,
   "metadata": {},
   "outputs": [
    {
     "name": "stdout",
     "output_type": "stream",
     "text": [
      "2 X 1 = 2\n",
      "2 X 2 = 4\n",
      "2 X 3 = 6\n",
      "2 X 4 = 8\n",
      "2 X 5 = 10\n",
      "2 X 6 = 12\n",
      "2 X 7 = 14\n",
      "2 X 8 = 16\n",
      "2 X 9 = 18\n",
      "2 X 10 = 20\n"
     ]
    }
   ],
   "source": [
    "for temp in range (1,11) :\n",
    "    print (\"2 X\",temp,\"=\",temp*2)"
   ]
  },
  {
   "cell_type": "code",
   "execution_count": 2,
   "metadata": {},
   "outputs": [
    {
     "name": "stdout",
     "output_type": "stream",
     "text": [
      "2 x 1 = 2\n",
      "2 x 2 = 4\n",
      "2 x 3 = 6\n",
      "2 x 4 = 8\n",
      "2 x 5 = 10\n",
      "2 x 6 = 12\n",
      "2 x 7 = 14\n",
      "2 x 8 = 16\n",
      "2 x 9 = 18\n",
      "2 x 10 = 20\n"
     ]
    }
   ],
   "source": [
    "for temp in range (1,11) :\n",
    "    print (f\"2 x {temp} = {temp*2}\")"
   ]
  },
  {
   "cell_type": "code",
   "execution_count": 10,
   "metadata": {},
   "outputs": [
    {
     "name": "stdout",
     "output_type": "stream",
     "text": [
      "9 X 1 = 9 \n",
      "9 X 2 = 18 \n",
      "9 X 3 = 27 \n",
      "9 X 4 = 36 \n",
      "9 X 5 = 45 \n",
      "9 X 6 = 54 \n",
      "9 X 7 = 63 \n",
      "9 X 8 = 72 \n",
      "9 X 9 = 81 \n",
      "9 X 10 = 90 \n"
     ]
    }
   ],
   "source": [
    "number = int(input (\"Please enter your number :\"))\n",
    "\n",
    "for temp in range (1,11) :\n",
    "\n",
    "    print (f\"{number} X {temp} = {temp*number} \")"
   ]
  },
  {
   "cell_type": "code",
   "execution_count": null,
   "metadata": {},
   "outputs": [],
   "source": [
    "for temp in range (2,6):\n",
    "    print(f\"table of {temp}\")\n",
    "    for temp_2 in range(1,11):\n",
    "        print (f\"{temp} X {temp_2} = {temp*temp_2}\")"
   ]
  },
  {
   "cell_type": "code",
   "execution_count": 23,
   "metadata": {},
   "outputs": [],
   "source": [
    "list = ['CAT', 'DOG', 'BANANA', 'APPLE']"
   ]
  },
  {
   "cell_type": "code",
   "execution_count": 24,
   "metadata": {},
   "outputs": [
    {
     "data": {
      "text/plain": [
       "'BANANA'"
      ]
     },
     "execution_count": 24,
     "metadata": {},
     "output_type": "execute_result"
    }
   ],
   "source": [
    "list[2].upper()"
   ]
  },
  {
   "cell_type": "code",
   "execution_count": 25,
   "metadata": {},
   "outputs": [],
   "source": [
    "list_upper = [list[0].upper(),list[1].upper(),list[2].upper(),list[3].upper()]"
   ]
  },
  {
   "cell_type": "code",
   "execution_count": 26,
   "metadata": {},
   "outputs": [
    {
     "data": {
      "text/plain": [
       "['CAT', 'DOG', 'BANANA', 'APPLE']"
      ]
     },
     "execution_count": 26,
     "metadata": {},
     "output_type": "execute_result"
    }
   ],
   "source": [
    "list_upper"
   ]
  },
  {
   "cell_type": "code",
   "execution_count": 27,
   "metadata": {},
   "outputs": [],
   "source": [
    "list_lower = []\n",
    "for temp in list :\n",
    "    list_lower.append(temp.lower())"
   ]
  },
  {
   "cell_type": "code",
   "execution_count": 28,
   "metadata": {},
   "outputs": [
    {
     "data": {
      "text/plain": [
       "['cat', 'dog', 'banana', 'apple']"
      ]
     },
     "execution_count": 28,
     "metadata": {},
     "output_type": "execute_result"
    }
   ],
   "source": [
    "list_lower"
   ]
  },
  {
   "cell_type": "code",
   "execution_count": 29,
   "metadata": {},
   "outputs": [],
   "source": [
    "list_title = []\n",
    "for temp in list :\n",
    "    list_title.append(temp.title())"
   ]
  },
  {
   "cell_type": "code",
   "execution_count": 30,
   "metadata": {},
   "outputs": [
    {
     "data": {
      "text/plain": [
       "['Cat', 'Dog', 'Banana', 'Apple']"
      ]
     },
     "execution_count": 30,
     "metadata": {},
     "output_type": "execute_result"
    }
   ],
   "source": [
    "list_title"
   ]
  },
  {
   "cell_type": "code",
   "execution_count": null,
   "metadata": {},
   "outputs": [],
   "source": [
    "table_start = int (input (\"Want to print table from:\"))\n",
    "table_end = int (input (\"Want to print table till:\"))\n",
    "table_length = int (input (\"How many time you want to print:\"))\n",
    "\n",
    "for temp in range (table_start,table_end) :\n",
    "    \n",
    "for temp in range (table_start,table_end):\n",
    "    print(f\"table of {temp}\")\n",
    "    for temp_2 in range(table_length+1):\n",
    "        print (f\"{temp} X {temp_2} = {temp*temp_2}\")"
   ]
  },
  {
   "cell_type": "code",
   "execution_count": 33,
   "metadata": {},
   "outputs": [
    {
     "name": "stdout",
     "output_type": "stream",
     "text": [
      "**********************SMIT****************************\n",
      "NAME : Ammad\n",
      "FATHER NAME : Mohsin\n",
      "ROLL NO : 45632\n"
     ]
    }
   ],
   "source": [
    "name = input (\"please enter your name:\")\n",
    "father_name = input(\"please enter your father name:\")\n",
    "roll_no = input (\"please enter your roll no\")\n",
    "\n",
    "\n",
    "print (f'**********************SMIT****************************')\n",
    "print (f\"NAME : {name}\")\n",
    "print (f\"FATHER NAME : {father_name}\")\n",
    "print (f\"ROLL NO : {roll_no}\")"
   ]
  },
  {
   "cell_type": "code",
   "execution_count": 36,
   "metadata": {},
   "outputs": [
    {
     "name": "stdout",
     "output_type": "stream",
     "text": [
      "**********************SMIT****************************\n",
      "NAME : Ammad Mohsin\n",
      "FATHER NAME : Mohsin\n",
      "ROLL NO : 3452\n"
     ]
    }
   ],
   "source": [
    "name = input (\"please enter your name:\")\n",
    "father_name = input(\"please enter your father name:\")\n",
    "roll_no = input (\"please enter your roll no\")\n",
    "\n",
    "\n",
    "print (f'**********************SMIT****************************')\n",
    "print (\"NAME : {0} {1}\".format (name,father_name))\n",
    "print (\"FATHER NAME : {0}\".format(father_name))\n",
    "print (\"ROLL NO : {0}\".format(roll_no))"
   ]
  },
  {
   "cell_type": "markdown",
   "metadata": {},
   "source": [
    "\\n for next line , \n",
    "\\ for line continuation"
   ]
  },
  {
   "cell_type": "code",
   "execution_count": null,
   "metadata": {},
   "outputs": [],
   "source": []
  }
 ],
 "metadata": {
  "kernelspec": {
   "display_name": "base",
   "language": "python",
   "name": "python3"
  },
  "language_info": {
   "codemirror_mode": {
    "name": "ipython",
    "version": 3
   },
   "file_extension": ".py",
   "mimetype": "text/x-python",
   "name": "python",
   "nbconvert_exporter": "python",
   "pygments_lexer": "ipython3",
   "version": "3.11.5"
  }
 },
 "nbformat": 4,
 "nbformat_minor": 2
}
