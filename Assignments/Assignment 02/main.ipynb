{
 "cells": [
  {
   "cell_type": "code",
   "execution_count": 3,
   "metadata": {},
   "outputs": [
    {
     "name": "stdout",
     "output_type": "stream",
     "text": [
      "Menu\n",
      "1. Add items to the grocery list\n",
      "2. Remove items from the grocery list\n",
      "3. Show grocery list\n",
      "4. Exit\n"
     ]
    }
   ],
   "source": [
    "shopping_list = []\n",
    "\n",
    "print (\"Menu\")\n",
    "print (\"1. Add items to the grocery list\")\n",
    "print (\"2. Remove items from the grocery list\")\n",
    "print (\"3. Show grocery list\")\n",
    "print (\"4. Exit\")\n",
    "\n",
    "choices = input (\"Please select from 1-4 :\")\n",
    "\n",
    "if choices == \"1\" :\n",
    "    item = input('please enter item you want to add to the list :')\n",
    "    shopping_list.append(item)\n",
    "    print (f'{item} has been added to the list')\n",
    "\n",
    "elif choices == \"2\" :\n",
    "    item = input('please enter the item you want to remove from the list')\n",
    "    if item in shopping_list :\n",
    "        shopping_list.remove(item)\n",
    "        print (f'{item} has been removed from the list')\n",
    "    else :\n",
    "        print (f'{item} is not in the list')\n",
    "\n",
    "elif choices == \"3\" : \n",
    "    for item in shopping_list :\n",
    "        print (f'{item}')\n",
    "\n",
    "elif choices == \"4\" :\n",
    "    print (\"Exiting the program.\")\n",
    "\n"
   ]
  },
  {
   "cell_type": "code",
   "execution_count": null,
   "metadata": {},
   "outputs": [],
   "source": []
  },
  {
   "cell_type": "code",
   "execution_count": null,
   "metadata": {},
   "outputs": [],
   "source": []
  }
 ],
 "metadata": {
  "kernelspec": {
   "display_name": "base",
   "language": "python",
   "name": "python3"
  },
  "language_info": {
   "codemirror_mode": {
    "name": "ipython",
    "version": 3
   },
   "file_extension": ".py",
   "mimetype": "text/x-python",
   "name": "python",
   "nbconvert_exporter": "python",
   "pygments_lexer": "ipython3",
   "version": "3.11.5"
  }
 },
 "nbformat": 4,
 "nbformat_minor": 2
}
