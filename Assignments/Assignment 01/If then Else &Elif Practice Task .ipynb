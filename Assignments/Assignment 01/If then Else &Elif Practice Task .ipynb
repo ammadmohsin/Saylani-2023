{
 "cells": [
  {
   "cell_type": "raw",
   "metadata": {},
   "source": [
    "1) A company decided to give bonus of 5% to employee if his/her year of service is more than 5 years.\n",
    "Ask user for their salary and year of service and print the net bonus amount."
   ]
  },
  {
   "cell_type": "code",
   "execution_count": 58,
   "metadata": {},
   "outputs": [
    {
     "name": "stdout",
     "output_type": "stream",
     "text": [
      "You are Eligible for Bonus!\n",
      "Net bonus Amount : 0.5\n"
     ]
    }
   ],
   "source": [
    "bonus = 0.05\n",
    "Salary = int(input(\"Please enter your Salary :\"))\n",
    "Service_year = int(input(\"Please enter your service period :\"))\n",
    "\n",
    "if (Service_year > 5):\n",
    "    print (\"You are Eligible for Bonus!\")\n",
    "    print (\"Net bonus Amount :\",Salary * bonus)\n",
    "else :\n",
    "    print (\"You are not eligible for bonus !\")\n",
    "\n"
   ]
  },
  {
   "cell_type": "markdown",
   "metadata": {},
   "source": [
    "\n",
    "2) Write a program to check whether a person is eligible for voting or not. (accept age from user) if age is greater than 17 eligible otherwise not eligible"
   ]
  },
  {
   "cell_type": "code",
   "execution_count": 63,
   "metadata": {},
   "outputs": [
    {
     "name": "stdout",
     "output_type": "stream",
     "text": [
      "You are not eligible for Voting !\n",
      "Only above 17 are eligible for voting\n"
     ]
    }
   ],
   "source": [
    "voting_age = 17\n",
    "age = int(input(\"Please enter your age :\"))\n",
    "\n",
    "if (age > voting_age):\n",
    "    print (\"You are eligible for Voting !\")\n",
    "else :\n",
    "    print (\"You are not eligible for Voting !\")\n",
    "    print (\"Only above 17 are eligible for voting\")"
   ]
  },
  {
   "cell_type": "markdown",
   "metadata": {},
   "source": [
    "\n",
    "3) Write a program to check whether a number entered by user is even or odd."
   ]
  },
  {
   "cell_type": "code",
   "execution_count": null,
   "metadata": {},
   "outputs": [
    {
     "name": "stdout",
     "output_type": "stream",
     "text": [
      "Enter a Number : 4\n",
      "4 is an Even Number.\n"
     ]
    }
   ],
   "source": [
    "Number = int (input(\"Please enter your number :\"))\n",
    "\n",
    "if ((Number % 2) == 0 ) :\n",
    "    print (\"Enter a Number :\" , Number)\n",
    "    print (Number , \"is an Even Number.\")\n",
    "else:\n",
    "    print (\"Enter a Number :\" , Number)\n",
    "    print (Number , \" is a Odd Number.\")"
   ]
  },
  {
   "cell_type": "markdown",
   "metadata": {},
   "source": [
    "4) Write a program to check whether a number is divisible by 7 or not.\n",
    "Show Answer"
   ]
  },
  {
   "cell_type": "code",
   "execution_count": null,
   "metadata": {},
   "outputs": [
    {
     "name": "stdout",
     "output_type": "stream",
     "text": [
      "Enter a number :\n",
      "22 is not divisible by 7\n"
     ]
    }
   ],
   "source": [
    "Number = int(input(\"Please enter a number :\"))\n",
    "\n",
    "if ((Number % 7) == 0) :\n",
    "    print (\"Enter a number :\",Number)\n",
    "    print (Number,\"is divisible by 7\")\n",
    "else:\n",
    "    print (\"Enter a number :\",Number)\n",
    "    print (Number,\"is not divisible by 7\")"
   ]
  },
  {
   "cell_type": "raw",
   "metadata": {},
   "source": [
    "5) Write a program to display \n",
    "\"Hello\" if a number entered by user is a multiple of five , otherwise print \"Bye\"."
   ]
  },
  {
   "cell_type": "code",
   "execution_count": null,
   "metadata": {},
   "outputs": [
    {
     "name": "stdout",
     "output_type": "stream",
     "text": [
      "Bye\n"
     ]
    }
   ],
   "source": [
    "Number = int(input(\"Plese enter your number :\"))\n",
    "\n",
    "if ((Number % 5) == 0) :\n",
    "    print (\"Hello\")\n",
    "else:\n",
    "    print (\"Bye\")"
   ]
  },
  {
   "cell_type": "raw",
   "metadata": {},
   "source": [
    "7) Write a program to display the last digit of a number.\n"
   ]
  },
  {
   "cell_type": "code",
   "execution_count": null,
   "metadata": {},
   "outputs": [
    {
     "name": "stdout",
     "output_type": "stream",
     "text": [
      "Last digit of number 7865 is 5\n"
     ]
    }
   ],
   "source": [
    "Number = int(input(\"Please enter your number :\"))\n",
    "Last_digit = Number % 10\n",
    "\n",
    "print (\"Last digit of number\",Number,\"is\",Last_digit)\n"
   ]
  },
  {
   "cell_type": "raw",
   "metadata": {},
   "source": [
    "Q8. Write a program to check whether the last digit of a number( entered by user ) is \n",
    "divisible by 3 or not."
   ]
  },
  {
   "cell_type": "code",
   "execution_count": null,
   "metadata": {},
   "outputs": [
    {
     "name": "stdout",
     "output_type": "stream",
     "text": [
      "Last digit of number 19 is divisible by 3\n"
     ]
    }
   ],
   "source": [
    "Number = int(input(\"Please enter your number :\"))\n",
    "Last_digit = Number % 10\n",
    "\n",
    "if ((Last_digit % 3) == 0) :\n",
    "    print (\"Last digit of number\",Number,\"is divisible by 3\")\n",
    "else :\n",
    "    print (\"Last digit of number\",Number,\"is not divisible by 3\")"
   ]
  },
  {
   "cell_type": "raw",
   "metadata": {},
   "source": [
    "9) Take values of length and breadth of a rectangle from user and print if it is square or rectangle."
   ]
  },
  {
   "cell_type": "code",
   "execution_count": null,
   "metadata": {},
   "outputs": [
    {
     "name": "stdout",
     "output_type": "stream",
     "text": [
      "Length : 5 cm\n",
      "Breadth : 7 cm\n",
      "Its a Rectangle\n"
     ]
    }
   ],
   "source": [
    "Length = int(input(\"Please enter length :\"))\n",
    "Breadth = int(input(\"Please enter breadth :\"))\n",
    "\n",
    "if (Length == Breadth) :\n",
    "    print (\"Length :\",Length,\"cm\")\n",
    "    print (\"Breadth :\",Breadth,\"cm\")\n",
    "    print (\"Its a Square\")\n",
    "else :\n",
    "    print (\"Length :\",Length,\"cm\")\n",
    "    print (\"Breadth :\",Breadth,\"cm\")\n",
    "    print (\"Its a Rectangle\")"
   ]
  },
  {
   "cell_type": "raw",
   "metadata": {},
   "source": [
    "10) Take two int values from user and print greatest among them."
   ]
  },
  {
   "cell_type": "code",
   "execution_count": null,
   "metadata": {},
   "outputs": [
    {
     "name": "stdout",
     "output_type": "stream",
     "text": [
      "1st Number : 15\n",
      "2nd Number : 15\n",
      "Both are Equal.\n"
     ]
    }
   ],
   "source": [
    "Num1 = int(input(\"Please enter your 1st number :\"))\n",
    "Num2 = int(input(\"Please enter your 2nd number :\"))\n",
    "\n",
    "if (Num1 > Num2):\n",
    "    print (\"1st Number :\",Num1)\n",
    "    print (\"2nd Number :\",Num2)\n",
    "    print (Num1,\"is greater.\")\n",
    "\n",
    "elif (Num1 == Num2):\n",
    "    print (\"1st Number :\",Num1)\n",
    "    print (\"2nd Number :\",Num2)\n",
    "    print (\"Both are Equal.\")\n",
    "\n",
    "else :\n",
    "    print (\"1st Number :\",Num1)\n",
    "    print (\"2nd Number :\",Num2)\n",
    "    print (Num2,\"is greater.\")"
   ]
  },
  {
   "cell_type": "raw",
   "metadata": {},
   "source": [
    "11) A shop will give discount of 10% if the cost of purchased quantity is more than 1000.\n",
    "Ask user for quantity\n",
    "Suppose, one unit will cost 100.\n",
    "Judge and print total cost for user."
   ]
  },
  {
   "cell_type": "code",
   "execution_count": null,
   "metadata": {},
   "outputs": [
    {
     "name": "stdout",
     "output_type": "stream",
     "text": [
      "Number of units purchased : 15\n",
      "Price per unit : 100\n",
      "Total cost : 1500 Rs\n",
      "Discount of 10% : 150.0 Rs\n",
      "Total Net Cost : 1350.0 Rs\n"
     ]
    }
   ],
   "source": [
    "Discount_rate = 0.10\n",
    "one_unit = 100\n",
    "Discount_amount = 1000\n",
    "units_purchased = int(input(\"Please enter number of units purchased :\"))\n",
    "Total_cost = units_purchased*one_unit\n",
    "Discount = Discount_rate*Total_cost\n",
    "\n",
    "if ((Total_cost)>Discount_amount) :\n",
    "    print(\"Number of units purchased :\",units_purchased)\n",
    "    print (\"Price per unit :\",one_unit)\n",
    "    print(\"Total cost :\",Total_cost,\"Rs\")\n",
    "    print(\"Discount :\",Discount,\"Rs\")\n",
    "    print (\"Total Net Cost :\",Total_cost-Discount,\"Rs\")\n",
    "else:\n",
    "    print(\"Number of units purchased :\",units_purchased)\n",
    "    print (\"Price per unit :\",one_unit)\n",
    "    print (\"Total cost :\",Total_cost)"
   ]
  },
  {
   "cell_type": "raw",
   "metadata": {},
   "source": [
    "12) A school has following rules for grading system:\n",
    "\n",
    "a. Below 25 - F\n",
    "\n",
    "b. 25 to 45 - E\n",
    "\n",
    "c. 45 to 50 - D\n",
    "\n",
    "d. 50 to 60 - C\n",
    "\n",
    "e. 60 to 80 - B\n",
    "\n",
    "f. Above 80 - A\n",
    "\n",
    "Ask user to enter marks and print the corresponding grade."
   ]
  },
  {
   "cell_type": "code",
   "execution_count": 60,
   "metadata": {},
   "outputs": [
    {
     "name": "stdout",
     "output_type": "stream",
     "text": [
      "Obtained marks : 80\n",
      "Your grade is 'A'\n"
     ]
    }
   ],
   "source": [
    "Marks = int(input(\"Please enter your marks :\"))\n",
    "\n",
    "if (Marks >= 80) :\n",
    "    print (\"Obtained marks :\",Marks)\n",
    "    print (\"Your grade is 'A'\")\n",
    "\n",
    "elif (60<=Marks<80):\n",
    "    print (\"Obtained marks :\",Marks)\n",
    "    print (\"Your grade is 'B'\")\n",
    "\n",
    "elif (50<=Marks<60):\n",
    "    print (\"Obtained marks :\",Marks)\n",
    "    print (\"Your grade is 'C'\")\n",
    "\n",
    "elif (45<=Marks<50):\n",
    "    print (\"Obtained marks :\",Marks)\n",
    "    print (\"Your grade is 'D'\")\n",
    "\n",
    "elif (25<=Marks<45):\n",
    "    print (\"Obtained marks :\",Marks)\n",
    "    print (\"Your grade is 'E'\")\n",
    "\n",
    "elif (Marks<25):\n",
    "    print (\"Obtained marks :\",Marks)\n",
    "    print (\"Your grade is 'F'\")\n",
    "\n",
    "\n"
   ]
  },
  {
   "cell_type": "raw",
   "metadata": {},
   "source": [
    "14)A student will not be allowed to sit in exam if his/her attendence is less than 75%.\n",
    "\n",
    "Take following input from user\n",
    "\n",
    "Number of classes held\n",
    "\n",
    "Number of classes attended.\n",
    "\n",
    "And print\n",
    "\n",
    "percentage of class attended\n",
    "\n",
    "Is student is allowed to sit in exam or not.\n"
   ]
  },
  {
   "cell_type": "code",
   "execution_count": 5,
   "metadata": {},
   "outputs": [
    {
     "name": "stdout",
     "output_type": "stream",
     "text": [
      "Your attendance : 90 %\n",
      "Your attendance is greater than 75%\n",
      "You are allowed to sit in exam\n"
     ]
    }
   ],
   "source": [
    "classes_held = int(input(\"Enter the total number of classes held :\"))\n",
    "classes_attended = int(input(\"Enter the number of classes you attended :\"))\n",
    "Allowed_attendance = 75\n",
    "Your_attendance = int((classes_attended/classes_held)*100)\n",
    "\n",
    "print (\"Your attendance :\",Your_attendance,\"%\")\n",
    "\n",
    "if (Your_attendance>=Allowed_attendance):\n",
    "    print (\"Your attendance is greater than 75%\")\n",
    "    print (\"You are allowed to sit in exam\")\n",
    "\n",
    "else :\n",
    "    print (\"Your attendance is less than 75%\")\n",
    "    print (\"You are not allowed to sit in exam\")\n"
   ]
  },
  {
   "cell_type": "raw",
   "metadata": {},
   "source": [
    "15) Modify the above question to allow student to sit if he/she has medical cause. Ask user if he/she has medical cause or not ( 'Y' or 'N' ) and print accordingly."
   ]
  },
  {
   "cell_type": "code",
   "execution_count": 45,
   "metadata": {},
   "outputs": [
    {
     "name": "stdout",
     "output_type": "stream",
     "text": [
      "You are not allowed to sit in exam.\n"
     ]
    }
   ],
   "source": [
    "Question = input (\"Do you have any medical cause (y/n) :\")\n",
    "\n",
    "if(Question==\"y\"):\n",
    "    print (\"You are not allowed to sit in exam.\")\n",
    "\n",
    "elif (Question==\"n\"):\n",
    "    print (\"You are allowed to sit in exam.\")\n",
    "\n",
    "else:\n",
    "    print (\"Invalid input\")\n"
   ]
  },
  {
   "cell_type": "raw",
   "metadata": {},
   "source": [
    "16) Write a program to check if a year is leap year or not.\n",
    "\n",
    "If a year is divisible by 4 then it is leap year but if the year is century year like 2000, 1900, 2100 then it must be divisible by 400."
   ]
  },
  {
   "cell_type": "code",
   "execution_count": 19,
   "metadata": {},
   "outputs": [
    {
     "name": "stdout",
     "output_type": "stream",
     "text": [
      "it is not a leap year\n"
     ]
    }
   ],
   "source": [
    "year = int(input(\"please enter the year\"))\n",
    "\n",
    "if ((year % 4) == 0) or ((year % 4) == 0) :\n",
    "    print (\"It is a leap year\")\n",
    "\n",
    "else:\n",
    "    print (\"it is not a leap year\")\n"
   ]
  },
  {
   "cell_type": "raw",
   "metadata": {},
   "source": [
    "17) Ask user to enter age, gender ( M or F ), marital status ( Y or N ) and then using following rules print their place of service.\n",
    "\n",
    "if employee is female, then she will work only in urban areas.\n",
    "\n",
    "if employee is a male and age is in between 20 to 40 then he may work in anywhere\n",
    "\n",
    "if employee is male and age is in between 40 t0 60 then he will work in urban areas only.\n",
    "\n",
    "And any other input of age should print \"ERROR\""
   ]
  },
  {
   "cell_type": "code",
   "execution_count": 1,
   "metadata": {},
   "outputs": [
    {
     "name": "stdout",
     "output_type": "stream",
     "text": [
      "You have to work in urban areas only\n"
     ]
    }
   ],
   "source": [
    "gender = input(\"please enter your gender (m/f) :\")\n",
    "age = int(input(\"please enter your age :\"))\n",
    "martial_status = input(\"please enter your martial status (y/n) :\")\n",
    "\n",
    "if (gender == \"f\") :\n",
    "    print (\"You have to work in urban areas only\")\n",
    "\n",
    "elif(gender == \"m\") :\n",
    "    if (20<=age<40) :\n",
    "        print (\"You may work anywhere\")\n",
    "    \n",
    "    if (40<=age<60) :\n",
    "        print (\"You have to work in urban areas only\")\n",
    "    \n",
    "    else :\n",
    "        print (\"ERROR\")\n",
    "\n",
    "\n"
   ]
  },
  {
   "cell_type": "raw",
   "metadata": {},
   "source": [
    "6) Write a program to calculate the electricity bill (accept number of unit from user) according to the following criteria :\n",
    "     Unit                                                     Price  \n",
    "uptp 100 units                                             no charge\n",
    "Next 200 units                                              Rs 5 per unit\n",
    "After 200 units                                             Rs 10 per unit\n",
    "(For example if input unit is 350 than total bill amount is Rs.3500\n",
    "(For example if input unit is 97 than total bill amount is Rs.0\n",
    "(For example if input unit is 150 than total bill amount is Rs.750"
   ]
  },
  {
   "cell_type": "code",
   "execution_count": 62,
   "metadata": {},
   "outputs": [
    {
     "name": "stdout",
     "output_type": "stream",
     "text": [
      "Number of units used : 273\n",
      "Total bill amount : 2730\n"
     ]
    }
   ],
   "source": [
    "units = int(input(\"Please enter number of units used :\"))\n",
    "upto_100 = 0\n",
    "upto_200 = 5\n",
    "above_200 = 10\n",
    "\n",
    "if (units<=100):\n",
    "    print (\"Number of units used :\",units)\n",
    "    print (\"Total bill amount :\",units*upto_100)\n",
    "\n",
    "elif (100<=units<=200):\n",
    "    print (\"Number of units used :\",units)\n",
    "    print (\"Total bill amount :\",units*upto_200)\n",
    "\n",
    "else:\n",
    "    print (\"Number of units used :\",units)\n",
    "    print (\"Total bill amount :\",units*above_200)\n"
   ]
  },
  {
   "cell_type": "raw",
   "metadata": {},
   "source": [
    "13) Take input of age of 3 people by user and determine oldest and youngest among them."
   ]
  },
  {
   "cell_type": "code",
   "execution_count": 3,
   "metadata": {},
   "outputs": [
    {
     "name": "stdout",
     "output_type": "stream",
     "text": [
      "First person : 24 yrs\n",
      "Second person : 25 yrs\n",
      "Third person : 12 yrs\n",
      "the oldest person is 25 yrs old.\n",
      "the youngest person is 12 yrs old.\n"
     ]
    }
   ],
   "source": [
    "first_person = int(input(\"Please enter age of 1st person :\"))\n",
    "second_person = int(input(\"Please enter age of 2nd person :\"))\n",
    "third_person = int(input(\"Please enter age of 3rd person :\"))\n",
    "\n",
    "print (\"First person :\",first_person,\"yrs\")\n",
    "print (\"Second person :\",second_person,\"yrs\")\n",
    "print (\"Third person :\",third_person,\"yrs\")\n",
    "\n",
    "oldest = max(first_person,second_person,third_person)\n",
    "youngest = min(first_person,second_person,third_person)\n",
    "\n",
    "print (\"the oldest person is\",oldest,\"yrs old.\")\n",
    "print (\"the youngest person is\",youngest,\"yrs old.\")\n",
    "    "
   ]
  },
  {
   "cell_type": "code",
   "execution_count": null,
   "metadata": {},
   "outputs": [],
   "source": []
  }
 ],
 "metadata": {
  "kernelspec": {
   "display_name": "Python 3 (ipykernel)",
   "language": "python",
   "name": "python3"
  },
  "language_info": {
   "codemirror_mode": {
    "name": "ipython",
    "version": 3
   },
   "file_extension": ".py",
   "mimetype": "text/x-python",
   "name": "python",
   "nbconvert_exporter": "python",
   "pygments_lexer": "ipython3",
   "version": "3.11.5"
  }
 },
 "nbformat": 4,
 "nbformat_minor": 2
}
