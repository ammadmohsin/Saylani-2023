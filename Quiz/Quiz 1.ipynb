{
 "cells": [
  {
   "cell_type": "code",
   "execution_count": null,
   "metadata": {},
   "outputs": [],
   "source": [
    "Scenario 01: Employee Performance Evaluation\n",
    "\n",
    "In a large corporation, the HR department needs to evaluate the performance of employees based on their sales records and \n",
    "customer satisfaction ratings. They want to identify the top-performing employees based on a weighted score that combines \n",
    "sales performance and customer satisfaction.\n",
    "\n",
    "Hint: Use List comprehension & Lambda Functions"
   ]
  },
  {
   "cell_type": "code",
   "execution_count": 32,
   "metadata": {},
   "outputs": [
    {
     "name": "stdout",
     "output_type": "stream",
     "text": [
      "Top Performing Employees:\n",
      "Alice: 36001.88\n",
      "Emma: 33001.84\n",
      "John: 30001.8\n",
      "James: 28801.76\n",
      "Bob: 27001.68\n"
     ]
    }
   ],
   "source": [
    "# Sample data: List of tuples containing employee names, sales figures, and customer satisfaction ratings\n",
    "\n",
    "employees = [\n",
    "    (\"John\", 50000, 4.5),\n",
    "    (\"Alice\", 60000, 4.7),\n",
    "    (\"Bob\", 45000, 4.2),\n",
    "    (\"Emma\", 55000, 4.6),\n",
    "    (\"James\", 48000, 4.4)\n",
    "]\n",
    "\n",
    "# Define weights for sales performance and customer satisfaction ratings\n",
    "sales_weight = 0.6\n",
    "satisfaction_weight = 0.4\n",
    "\n",
    "# Calculate weighted scores for each employee using list comprehension and lambda functions\n",
    "weighted_scores = [(name, sales * sales_weight + satisfaction * satisfaction_weight) for name, sales, satisfaction in employees]\n",
    "\n",
    "# Identify the top-performing employees based on their weighted scores\n",
    "top_performers = sorted(weighted_scores, key=lambda x: x[1], reverse=True)\n",
    "\n",
    "# Print the top-performing employees\n",
    "print(\"Top Performing Employees:\")\n",
    "for name, score in top_performers:\n",
    "    print(f\"{name}: {score}\")\n",
    "\n"
   ]
  },
  {
   "cell_type": "markdown",
   "metadata": {},
   "source": [
    "Scenario 02: Calculating Square Roots of Even Numbers\n",
    "\n",
    "Imagine you're tasked with calculating the square roots of even numbers from 1 to 10 using list comprehension and lambda functions."
   ]
  },
  {
   "cell_type": "code",
   "execution_count": 28,
   "metadata": {},
   "outputs": [
    {
     "name": "stdout",
     "output_type": "stream",
     "text": [
      "Square roots of even numbers from 1 to 10:\n",
      "1.4142135623730951\n",
      "2.0\n",
      "2.449489742783178\n",
      "2.8284271247461903\n",
      "3.1622776601683795\n"
     ]
    }
   ],
   "source": [
    "# PRACTICE WORK :\n",
    "\n",
    "square_roots = []\n",
    "\n",
    "for num in range(2, 11, 2):\n",
    "    calculate_sqrt = lambda x: x ** 0.5\n",
    "    square_root = calculate_sqrt(num)\n",
    "\n",
    "    square_roots.append(square_root)\n",
    "\n",
    "print(\"Square roots of even numbers from 1 to 10:\")\n",
    "\n",
    "for sqrt in square_roots:\n",
    "    print(sqrt)"
   ]
  },
  {
   "cell_type": "code",
   "execution_count": 29,
   "metadata": {},
   "outputs": [
    {
     "name": "stdout",
     "output_type": "stream",
     "text": [
      "Square roots of even numbers from 1 to 10:\n",
      "1.4142135623730951\n",
      "2.0\n",
      "2.449489742783178\n",
      "2.8284271247461903\n",
      "3.1622776601683795\n"
     ]
    }
   ],
   "source": [
    "# ONE LINER CODE :\n",
    "\n",
    "square_roots = [(lambda x: x ** 0.5)(num) for num in range(2, 11, 2)]\n",
    "\n",
    "print(\"Square roots of even numbers from 1 to 10 :\")\n",
    "for sqrt in square_roots:\n",
    "    print(sqrt)\n"
   ]
  }
 ],
 "metadata": {
  "kernelspec": {
   "display_name": "base",
   "language": "python",
   "name": "python3"
  },
  "language_info": {
   "codemirror_mode": {
    "name": "ipython",
    "version": 3
   },
   "file_extension": ".py",
   "mimetype": "text/x-python",
   "name": "python",
   "nbconvert_exporter": "python",
   "pygments_lexer": "ipython3",
   "version": "3.11.5"
  }
 },
 "nbformat": 4,
 "nbformat_minor": 2
}
